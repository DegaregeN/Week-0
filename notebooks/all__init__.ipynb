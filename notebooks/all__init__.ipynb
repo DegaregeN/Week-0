{
 "cells": [
  {
   "cell_type": "code",
   "execution_count": null,
   "metadata": {},
   "outputs": [],
   "source": [
    "#importing of necessary libraries\n",
    "import pandas as pd  \n",
    "import numpy as np  \n",
    "import seaborn as sns \n",
    "import pyreadstat \n",
    "import matplotlib.pyplot as plt"
   ]
  },
  {
   "cell_type": "code",
   "execution_count": null,
   "metadata": {},
   "outputs": [],
   "source": [
    "# Path to your SPSS file\n",
    "df_benin = \"C:\\\\Users\\\\1221\\\\Desktop\\\\Kifya\\\\data\\\\benin-malanville.csv\"\n",
    "df_sieral = \"C:\\\\Users\\\\1221\\\\Desktop\\\\Kifya\\\\data\\\\sierraleone-bumbuna.csv\"\n",
    "df_togo = \"C:\\\\Users\\\\1221\\\\Desktop\\\\Kifya\\\\data\\\\togo-dapaong_qc.csv\"\n",
    "\n",
    "# Read the csv file\n",
    "df_benin = pd.read_csv(df_benin)\n",
    "df_benin"
   ]
  },
  {
   "cell_type": "code",
   "execution_count": null,
   "metadata": {},
   "outputs": [],
   "source": [
    "df_benin['country'] = \"benin\"\n",
    "df_benin"
   ]
  },
  {
   "cell_type": "code",
   "execution_count": null,
   "metadata": {},
   "outputs": [],
   "source": [
    "# Read the csv file\n",
    "df_sieral = pd.read_csv(df_sieral)\n",
    "df_sieral"
   ]
  },
  {
   "cell_type": "code",
   "execution_count": null,
   "metadata": {},
   "outputs": [],
   "source": [
    "df_sieral['country'] = \"sieralleone\"\n",
    "df_sieral"
   ]
  },
  {
   "cell_type": "code",
   "execution_count": null,
   "metadata": {},
   "outputs": [],
   "source": [
    "# Read the csv file\n",
    "df_togo = pd.read_csv(df_togo)\n",
    "df_togo "
   ]
  },
  {
   "cell_type": "code",
   "execution_count": null,
   "metadata": {},
   "outputs": [],
   "source": [
    "df_togo['country'] = \"togo\"\n",
    "df_togo"
   ]
  },
  {
   "cell_type": "code",
   "execution_count": null,
   "metadata": {},
   "outputs": [],
   "source": [
    "# Concatenating the DataFrames\n",
    "df = pd.concat([df_benin, df_sieral, df_togo], ignore_index=True)\n",
    "\n",
    "# Display the merged DataFrame\n",
    "df"
   ]
  },
  {
   "cell_type": "code",
   "execution_count": null,
   "metadata": {},
   "outputs": [],
   "source": [
    "df.columns"
   ]
  },
  {
   "cell_type": "code",
   "execution_count": null,
   "metadata": {},
   "outputs": [],
   "source": [
    "#display a concise summary of a DataFrame\n",
    "df.info()"
   ]
  },
  {
   "cell_type": "code",
   "execution_count": null,
   "metadata": {},
   "outputs": [],
   "source": [
    "#summary of statistics for a DataFrame's numeric columns of selected variables \n",
    "df.describe()"
   ]
  },
  {
   "cell_type": "code",
   "execution_count": null,
   "metadata": {},
   "outputs": [],
   "source": [
    "# Count the number of null values per column\n",
    "null_counts = df.isnull().sum()\n",
    "null_counts"
   ]
  },
  {
   "cell_type": "code",
   "execution_count": null,
   "metadata": {},
   "outputs": [],
   "source": [
    "## remove columns from the DataFrame where every entry in the column is NaN.\n",
    "df = df.dropna(axis=1, how='all')\n",
    "\n",
    "# Display the cleaned DataFrame\n",
    "print(\"\\nDataFrame after dropping columns with all NaN values:\")\n",
    "df"
   ]
  },
  {
   "cell_type": "code",
   "execution_count": null,
   "metadata": {},
   "outputs": [],
   "source": [
    "# Select only numeric columns\n",
    "numeric_df = df.select_dtypes(include=[np.number])\n",
    "\n",
    "# Create subplots\n",
    "fig, axes = plt.subplots(nrows=4, ncols=5, figsize=(20, 16))\n",
    "\n",
    "# Flatten the axes array for easy iteration\n",
    "axes = axes.flatten()\n",
    "\n",
    "# Plot boxplots for each numeric column\n",
    "for i, col in enumerate(numeric_df.columns):\n",
    "    sns.boxplot(y=numeric_df[col], ax=axes[i])\n",
    "    axes[i].set_title(f'Boxplot of {col}')\n",
    "    axes[i].set_xlabel('')\n",
    "\n",
    "# Hide any unused subplots\n",
    "for j in range(i + 1, len(axes)):\n",
    "    fig.delaxes(axes[j])\n",
    "\n",
    "# Adjust layout\n",
    "plt.tight_layout()\n",
    "plt.show()"
   ]
  },
  {
   "cell_type": "code",
   "execution_count": null,
   "metadata": {},
   "outputs": [],
   "source": [
    "## displaying a correlation map for visualization of Correlation between variables to show their importance\n",
    "# Select only numeric columns\n",
    "df_num = df.select_dtypes(include=[np.number])\n",
    "\n",
    "plt.figure(figsize = (22,12))\n",
    "sns.heatmap(df_num.corr(), linewidths = 0.2, annot=True, cmap = \"coolwarm\") "
   ]
  },
  {
   "cell_type": "code",
   "execution_count": null,
   "metadata": {},
   "outputs": [],
   "source": [
    "## saving the dataframe in csv format\n",
    "df = df.to_csv(\"C:\\\\Users\\\\1221\\\\Desktop\\\\Kifya\\\\data\\\\output.csv\", index=False)"
   ]
  },
  {
   "cell_type": "code",
   "execution_count": null,
   "metadata": {},
   "outputs": [],
   "source": [
    "## reading the csv file\n",
    "df = pd.read_csv(\"C:\\\\Users\\\\1221\\\\Desktop\\\\Kifya\\\\data\\\\output.csv\")\n",
    "df"
   ]
  },
  {
   "cell_type": "code",
   "execution_count": null,
   "metadata": {},
   "outputs": [],
   "source": [
    "df = df[df[\"country\"]==\"benin\"]\n",
    "df"
   ]
  },
  {
   "cell_type": "code",
   "execution_count": null,
   "metadata": {},
   "outputs": [],
   "source": [
    "df_GHI = df.drop(columns = ['DNI', 'DHI', 'ModA', 'ModB', 'Tamb', 'RH', 'WS',\n",
    "       'WSgust', 'WSstdev', 'WD', 'WDstdev', 'BP', 'Cleaning', 'Precipitation',\n",
    "       'TModA', 'TModB', 'country'], axis = 1)\n",
    "df_GHI"
   ]
  },
  {
   "cell_type": "code",
   "execution_count": null,
   "metadata": {},
   "outputs": [],
   "source": [
    "df_GHI = df_GHI.set_index(\"Timestamp\")"
   ]
  },
  {
   "cell_type": "code",
   "execution_count": null,
   "metadata": {},
   "outputs": [],
   "source": [
    "df_GHI.index = pd.to_datetime(df_GHI.index)\n",
    "df_GHI.info()"
   ]
  },
  {
   "cell_type": "code",
   "execution_count": null,
   "metadata": {},
   "outputs": [],
   "source": [
    "df_GHI"
   ]
  },
  {
   "cell_type": "code",
   "execution_count": null,
   "metadata": {},
   "outputs": [],
   "source": [
    "df_GHI.index"
   ]
  },
  {
   "cell_type": "code",
   "execution_count": null,
   "metadata": {},
   "outputs": [],
   "source": [
    "df_GHI.plot(figsize = (15,6), style = \"-\",)"
   ]
  },
  {
   "cell_type": "code",
   "execution_count": null,
   "metadata": {},
   "outputs": [],
   "source": [
    "df_DNI = df.drop(columns = ['GHI', 'DHI', 'ModA', 'ModB', 'Tamb', 'RH', 'WS',\n",
    "       'WSgust', 'WSstdev', 'WD', 'WDstdev', 'BP', 'Cleaning', 'Precipitation',\n",
    "       'TModA', 'TModB', 'country'], axis = 1)\n",
    "df_DNI = df_DNI.set_index(\"Timestamp\")\n",
    "df_DNI.index = pd.to_datetime(df_DNI.index)\n",
    "df_DNI.plot(figsize = (15,6), style = \"-\",)"
   ]
  },
  {
   "cell_type": "code",
   "execution_count": null,
   "metadata": {},
   "outputs": [],
   "source": [
    "df_DHI = df.drop(columns = ['DNI','GHI', 'ModA', 'ModB', 'Tamb', 'RH', 'WS',\n",
    "       'WSgust', 'WSstdev', 'WD', 'WDstdev', 'BP', 'Cleaning', 'Precipitation',\n",
    "       'TModA', 'TModB', 'country'], axis = 1)\n",
    "df_DHI = df_DHI.set_index(\"Timestamp\")\n",
    "df_DHI.index = pd.to_datetime(df_DHI.index)\n",
    "df_DHI.plot(figsize = (15,6), style = \"-\",)"
   ]
  },
  {
   "cell_type": "code",
   "execution_count": null,
   "metadata": {},
   "outputs": [],
   "source": [
    "df_Tamb = df.drop(columns = ['DNI','GHI', 'ModA', 'ModB','DHI', 'RH', 'WS',\n",
    "       'WSgust', 'WSstdev', 'WD', 'WDstdev', 'BP', 'Cleaning', 'Precipitation',\n",
    "       'TModA', 'TModB', 'country'], axis = 1)\n",
    "df_Tamb = df_Tamb.set_index(\"Timestamp\")\n",
    "df_Tamb.index = pd.to_datetime(df_Tamb.index)\n",
    "df_Tamb.plot(figsize = (15,6), style = \"-\",)"
   ]
  },
  {
   "cell_type": "code",
   "execution_count": null,
   "metadata": {},
   "outputs": [],
   "source": [
    "from sklearn.linear_model import LinearRegression\n",
    "\n",
    "#Setting the value for X and Y\n",
    "x = df[['ModA', 'ModB']]\n",
    "y = df['Cleaning']\n",
    "\n",
    "#Fitting the Multiple Linear Regression model\n",
    "mlr = LinearRegression()  \n",
    "mlr.fit(x, y)\n",
    "\n",
    "print(\"Intercept: \", mlr.intercept_)\n",
    "print(\"Coefficients:\")\n",
    "list(zip(x, mlr.coef_))"
   ]
  },
  {
   "cell_type": "code",
   "execution_count": null,
   "metadata": {},
   "outputs": [],
   "source": [
    "#relative humidity (RH) might influence temperature readings\n",
    "x = df[[\"TModA\", \"TModB\"]]\n",
    "y = df['RH']\n",
    "\n",
    "#Fitting the Multiple Linear Regression model\n",
    "mlr = LinearRegression()  \n",
    "mlr.fit(x, y)\n",
    "\n",
    "print(\"Intercept: \", mlr.intercept_)\n",
    "print(\"Coefficients:\")\n",
    "list(zip(x, mlr.coef_))"
   ]
  },
  {
   "cell_type": "code",
   "execution_count": null,
   "metadata": {},
   "outputs": [],
   "source": [
    "#relative humidity (RH) influence on solar radiation\n",
    "x = df[[\"GHI\", \"DNI\", \"DHI\"]]\n",
    "y = df['RH']\n",
    "\n",
    "#Fitting the Multiple Linear Regression model\n",
    "mlr = LinearRegression()  \n",
    "mlr.fit(x, y)\n",
    "\n",
    "print(\"Intercept: \", mlr.intercept_)\n",
    "print(\"Coefficients:\")\n",
    "list(zip(x, mlr.coef_))"
   ]
  },
  {
   "cell_type": "code",
   "execution_count": null,
   "metadata": {},
   "outputs": [],
   "source": [
    "# Create subplots\n",
    "fig, axs = plt.subplots(3, 2, figsize=(12, 10))\n",
    "\n",
    "# Plot histograms\n",
    "axs[0, 0].hist(df['GHI'], bins=30, color='skyblue', edgecolor='black')\n",
    "axs[0, 0].set_title('GHI Distribution')\n",
    "\n",
    "axs[0, 1].hist(df['DNI'], bins=30, color='lightgreen', edgecolor='black')\n",
    "axs[0, 1].set_title('DNI Distribution')\n",
    "\n",
    "axs[1, 0].hist(df['DHI'], bins=30, color='salmon', edgecolor='black')\n",
    "axs[1, 0].set_title('DHI Distribution')\n",
    "\n",
    "axs[1, 1].hist(df['WS'], bins=30, color='gold', edgecolor='black')\n",
    "axs[1, 1].set_title('WS Distribution')\n",
    "\n",
    "axs[2, 0].hist(df['TModA'], bins=30, color='violet', edgecolor='black')\n",
    "axs[2, 0].set_title('Temperature Distribution')\n",
    "\n",
    "axs[2, 0].hist(df['TModB'], bins=30, color='blue', edgecolor='black')\n",
    "axs[2, 0].set_title('Temperature Distribution')\n",
    "\n",
    "\n",
    "# Remove the empty subplot\n",
    "fig.delaxes(axs[2, 1])\n",
    "\n",
    "# Adjust layout\n",
    "plt.tight_layout()\n",
    "plt.show()"
   ]
  },
  {
   "cell_type": "code",
   "execution_count": null,
   "metadata": {},
   "outputs": [],
   "source": [
    "# Check for negative values and impute with mean\n",
    "for column in ['GHI', 'DNI', 'DHI']:\n",
    "    negative_values = df[column] < 0\n",
    "    if negative_values.any():\n",
    "        mean_value = df[column][~negative_values].mean()\n",
    "        df.loc[negative_values, column] = mean_value\n",
    "\n",
    "# Display the DataFrame to verify the changes\n",
    "df"
   ]
  },
  {
   "cell_type": "code",
   "execution_count": null,
   "metadata": {},
   "outputs": [],
   "source": [
    "# Create subplots\n",
    "fig, axs = plt.subplots(3, 2, figsize=(12, 10))\n",
    "\n",
    "# Plot histograms\n",
    "axs[0, 0].hist(df['GHI'], bins=30, color='skyblue', edgecolor='black')\n",
    "axs[0, 0].set_title('GHI Distribution')\n",
    "\n",
    "axs[0, 1].hist(df['DNI'], bins=30, color='lightgreen', edgecolor='black')\n",
    "axs[0, 1].set_title('DNI Distribution')\n",
    "\n",
    "axs[1, 0].hist(df['DHI'], bins=30, color='salmon', edgecolor='black')\n",
    "axs[1, 0].set_title('DHI Distribution')\n",
    "\n",
    "axs[1, 1].hist(df['WS'], bins=30, color='gold', edgecolor='black')\n",
    "axs[1, 1].set_title('WS Distribution')\n",
    "\n",
    "axs[2, 0].hist(df['TModA'], bins=30, color='violet', edgecolor='black')\n",
    "axs[2, 0].set_title('Temperature Distribution')\n",
    "\n",
    "axs[2, 0].hist(df['TModB'], bins=30, color='blue', edgecolor='black')\n",
    "axs[2, 0].set_title('Temperature Distribution')\n",
    "\n",
    "\n",
    "# Remove the empty subplot\n",
    "fig.delaxes(axs[2, 1])\n",
    "\n",
    "# Adjust layout\n",
    "plt.tight_layout()\n",
    "plt.show()"
   ]
  },
  {
   "cell_type": "code",
   "execution_count": null,
   "metadata": {},
   "outputs": [],
   "source": [
    "from scipy.stats import zscore\n",
    "\n",
    "numeric_df = df.select_dtypes(include=[np.number])\n",
    "\n",
    "# Calculate Z-scores\n",
    "df_zscores = numeric_df.apply(zscore)\n",
    "\n",
    "# Flag data points with Z-scores greater than 3 or less than -3\n",
    "threshold = 3\n",
    "outliers = (df_zscores > threshold) | (df_zscores < -threshold)\n",
    "\n",
    "# Display the outliers\n",
    "print(\"Outliers flagged by Z-scores:\")\n",
    "print(outliers)\n",
    "\n",
    "# Optionally,  display the actual outlier values\n",
    "outlier_values = df[outliers]\n",
    "print(\"\\nOutlier values:\")\n",
    "outlier_values.sum()"
   ]
  },
  {
   "cell_type": "code",
   "execution_count": null,
   "metadata": {},
   "outputs": [],
   "source": [
    "# Create bubble chart\n",
    "plt.figure(figsize=(12, 8))\n",
    "\n",
    "# Bubble size can be either RH or BP, here we use RH\n",
    "bubble_size = df['RH'] * 10  # Scale the bubble size for better visualization\n",
    "\n",
    "plt.scatter(df['GHI'], df['Tamb'], s=bubble_size, c=df['WS'], cmap='viridis', alpha=0.6, edgecolors='w', linewidth=0.5)\n",
    "plt.colorbar(label='Wind Speed (WS)')\n",
    "plt.xlabel('Global Horizontal Irradiance (GHI)')\n",
    "plt.ylabel('Ambient Temperature (Tamb)')\n",
    "plt.title('Bubble Chart: GHI vs. Tamb vs. WS with Bubble Size Representing RH')\n",
    "\n",
    "plt.show()"
   ]
  },
  {
   "cell_type": "code",
   "execution_count": null,
   "metadata": {},
   "outputs": [],
   "source": [
    "# Convert wind direction to radians for polar plot\n",
    "wind_direction_rad = np.deg2rad(df['WD'])\n",
    "\n",
    "# Create polar plot\n",
    "plt.figure(figsize=(10, 8))\n",
    "ax = plt.subplot(111, polar=True)\n",
    "sc = ax.scatter(wind_direction_rad, df['WS'], c=df[\"WS\"], cmap='viridis', alpha=0.75, edgecolors='w', linewidth=0.5)\n",
    "\n",
    "# Add color bar\n",
    "cbar = plt.colorbar(sc, ax=ax, orientation='vertical')\n",
    "cbar.set_label('Wind Speed (m/s)')\n",
    "\n",
    "# Set plot title and labels\n",
    "ax.set_title('Wind Speed and Direction Distribution')\n",
    "ax.set_theta_zero_location('N')\n",
    "ax.set_theta_direction(-1)\n",
    "ax.set_rlabel_position(135)\n",
    "\n",
    "plt.show()"
   ]
  },
  {
   "cell_type": "code",
   "execution_count": null,
   "metadata": {},
   "outputs": [],
   "source": [
    "# visualize by country\n",
    "# Define colors for each class\n",
    "colors = ['red', 'yellow', 'orange', 'green']\n",
    "\n",
    "y = df[\"country\"]  \n",
    "# Count frequencies of each class\n",
    "unique_classes, class_counts = np.unique(y, return_counts=True)\n",
    "\n",
    "# Plot the bar graph with different colors\n",
    "plt.figure(figsize=(8, 6))\n",
    "plt.bar(unique_classes, class_counts, color=colors)\n",
    "\n",
    "plt.xlabel('country')\n",
    "plt.ylabel('Frequency')\n",
    "plt.title('Global Horizontal Irradiance')\n",
    "plt.grid(axis='y')\n",
    "plt.xticks(unique_classes)\n",
    "plt.show()"
   ]
  }
 ],
 "metadata": {
  "kernelspec": {
   "display_name": "Python 3 (ipykernel)",
   "language": "python",
   "name": "python3"
  }
 },
 "nbformat": 4,
 "nbformat_minor": 2
}
